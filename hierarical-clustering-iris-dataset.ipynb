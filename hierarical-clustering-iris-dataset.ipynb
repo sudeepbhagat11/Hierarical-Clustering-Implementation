{
 "cells": [
  {
   "cell_type": "code",
   "execution_count": 1,
   "id": "764e7b12",
   "metadata": {
    "_cell_guid": "b1076dfc-b9ad-4769-8c92-a6c4dae69d19",
    "_uuid": "8f2839f25d086af736a60e9eeb907d3b93b6e0e5",
    "execution": {
     "iopub.execute_input": "2024-06-05T08:49:53.947102Z",
     "iopub.status.busy": "2024-06-05T08:49:53.946644Z",
     "iopub.status.idle": "2024-06-05T08:49:54.857045Z",
     "shell.execute_reply": "2024-06-05T08:49:54.855690Z"
    },
    "papermill": {
     "duration": 0.923263,
     "end_time": "2024-06-05T08:49:54.859480",
     "exception": false,
     "start_time": "2024-06-05T08:49:53.936217",
     "status": "completed"
    },
    "tags": []
   },
   "outputs": [
    {
     "name": "stdout",
     "output_type": "stream",
     "text": [
      "/kaggle/input/dataset-iris/Iris.csv\n"
     ]
    }
   ],
   "source": [
    "# This Python 3 environment comes with many helpful analytics libraries installed\n",
    "# It is defined by the kaggle/python Docker image: https://github.com/kaggle/docker-python\n",
    "# For example, here's several helpful packages to load\n",
    "\n",
    "import numpy as np # linear algebra\n",
    "import pandas as pd # data processing, CSV file I/O (e.g. pd.read_csv)\n",
    "\n",
    "# Input data files are available in the read-only \"../input/\" directory\n",
    "# For example, running this (by clicking run or pressing Shift+Enter) will list all files under the input directory\n",
    "\n",
    "import os\n",
    "for dirname, _, filenames in os.walk('/kaggle/input'):\n",
    "    for filename in filenames:\n",
    "        print(os.path.join(dirname, filename))\n",
    "\n",
    "# You can write up to 20GB to the current directory (/kaggle/working/) that gets preserved as output when you create a version using \"Save & Run All\" \n",
    "# You can also write temporary files to /kaggle/temp/, but they won't be saved outside of the current session"
   ]
  },
  {
   "cell_type": "code",
   "execution_count": 2,
   "id": "79a8e504",
   "metadata": {
    "execution": {
     "iopub.execute_input": "2024-06-05T08:49:54.877837Z",
     "iopub.status.busy": "2024-06-05T08:49:54.877329Z",
     "iopub.status.idle": "2024-06-05T08:49:54.910047Z",
     "shell.execute_reply": "2024-06-05T08:49:54.908789Z"
    },
    "papermill": {
     "duration": 0.044548,
     "end_time": "2024-06-05T08:49:54.912414",
     "exception": false,
     "start_time": "2024-06-05T08:49:54.867866",
     "status": "completed"
    },
    "tags": []
   },
   "outputs": [
    {
     "name": "stdout",
     "output_type": "stream",
     "text": [
      "   Id  SepalLengthCm  SepalWidthCm  PetalLengthCm  PetalWidthCm      Species\n",
      "0   1            5.1           3.5            1.4           0.2  Iris-setosa\n",
      "1   2            4.9           3.0            1.4           0.2  Iris-setosa\n",
      "2   3            4.7           3.2            1.3           0.2  Iris-setosa\n",
      "3   4            4.6           3.1            1.5           0.2  Iris-setosa\n",
      "4   5            5.0           3.6            1.4           0.2  Iris-setosa\n"
     ]
    },
    {
     "data": {
      "text/plain": [
       "(150, 6)"
      ]
     },
     "execution_count": 2,
     "metadata": {},
     "output_type": "execute_result"
    }
   ],
   "source": [
    "data = pd.read_csv('/kaggle/input/dataset-iris/Iris.csv')\n",
    "df = pd.DataFrame(data)\n",
    "print(df.head())\n",
    "\n",
    "df.shape"
   ]
  },
  {
   "cell_type": "code",
   "execution_count": 3,
   "id": "550fca55",
   "metadata": {
    "execution": {
     "iopub.execute_input": "2024-06-05T08:49:54.930924Z",
     "iopub.status.busy": "2024-06-05T08:49:54.930548Z",
     "iopub.status.idle": "2024-06-05T08:49:54.955560Z",
     "shell.execute_reply": "2024-06-05T08:49:54.954303Z"
    },
    "papermill": {
     "duration": 0.037185,
     "end_time": "2024-06-05T08:49:54.957988",
     "exception": false,
     "start_time": "2024-06-05T08:49:54.920803",
     "status": "completed"
    },
    "tags": []
   },
   "outputs": [
    {
     "data": {
      "text/html": [
       "<div>\n",
       "<style scoped>\n",
       "    .dataframe tbody tr th:only-of-type {\n",
       "        vertical-align: middle;\n",
       "    }\n",
       "\n",
       "    .dataframe tbody tr th {\n",
       "        vertical-align: top;\n",
       "    }\n",
       "\n",
       "    .dataframe thead th {\n",
       "        text-align: right;\n",
       "    }\n",
       "</style>\n",
       "<table border=\"1\" class=\"dataframe\">\n",
       "  <thead>\n",
       "    <tr style=\"text-align: right;\">\n",
       "      <th></th>\n",
       "      <th>Id</th>\n",
       "      <th>SepalLengthCm</th>\n",
       "      <th>SepalWidthCm</th>\n",
       "      <th>PetalLengthCm</th>\n",
       "      <th>PetalWidthCm</th>\n",
       "    </tr>\n",
       "  </thead>\n",
       "  <tbody>\n",
       "    <tr>\n",
       "      <th>0</th>\n",
       "      <td>1</td>\n",
       "      <td>5.1</td>\n",
       "      <td>3.5</td>\n",
       "      <td>1.4</td>\n",
       "      <td>0.2</td>\n",
       "    </tr>\n",
       "    <tr>\n",
       "      <th>1</th>\n",
       "      <td>2</td>\n",
       "      <td>4.9</td>\n",
       "      <td>3.0</td>\n",
       "      <td>1.4</td>\n",
       "      <td>0.2</td>\n",
       "    </tr>\n",
       "    <tr>\n",
       "      <th>2</th>\n",
       "      <td>3</td>\n",
       "      <td>4.7</td>\n",
       "      <td>3.2</td>\n",
       "      <td>1.3</td>\n",
       "      <td>0.2</td>\n",
       "    </tr>\n",
       "    <tr>\n",
       "      <th>3</th>\n",
       "      <td>4</td>\n",
       "      <td>4.6</td>\n",
       "      <td>3.1</td>\n",
       "      <td>1.5</td>\n",
       "      <td>0.2</td>\n",
       "    </tr>\n",
       "    <tr>\n",
       "      <th>4</th>\n",
       "      <td>5</td>\n",
       "      <td>5.0</td>\n",
       "      <td>3.6</td>\n",
       "      <td>1.4</td>\n",
       "      <td>0.2</td>\n",
       "    </tr>\n",
       "    <tr>\n",
       "      <th>...</th>\n",
       "      <td>...</td>\n",
       "      <td>...</td>\n",
       "      <td>...</td>\n",
       "      <td>...</td>\n",
       "      <td>...</td>\n",
       "    </tr>\n",
       "    <tr>\n",
       "      <th>145</th>\n",
       "      <td>146</td>\n",
       "      <td>6.7</td>\n",
       "      <td>3.0</td>\n",
       "      <td>5.2</td>\n",
       "      <td>2.3</td>\n",
       "    </tr>\n",
       "    <tr>\n",
       "      <th>146</th>\n",
       "      <td>147</td>\n",
       "      <td>6.3</td>\n",
       "      <td>2.5</td>\n",
       "      <td>5.0</td>\n",
       "      <td>1.9</td>\n",
       "    </tr>\n",
       "    <tr>\n",
       "      <th>147</th>\n",
       "      <td>148</td>\n",
       "      <td>6.5</td>\n",
       "      <td>3.0</td>\n",
       "      <td>5.2</td>\n",
       "      <td>2.0</td>\n",
       "    </tr>\n",
       "    <tr>\n",
       "      <th>148</th>\n",
       "      <td>149</td>\n",
       "      <td>6.2</td>\n",
       "      <td>3.4</td>\n",
       "      <td>5.4</td>\n",
       "      <td>2.3</td>\n",
       "    </tr>\n",
       "    <tr>\n",
       "      <th>149</th>\n",
       "      <td>150</td>\n",
       "      <td>5.9</td>\n",
       "      <td>3.0</td>\n",
       "      <td>5.1</td>\n",
       "      <td>1.8</td>\n",
       "    </tr>\n",
       "  </tbody>\n",
       "</table>\n",
       "<p>150 rows × 5 columns</p>\n",
       "</div>"
      ],
      "text/plain": [
       "      Id  SepalLengthCm  SepalWidthCm  PetalLengthCm  PetalWidthCm\n",
       "0      1            5.1           3.5            1.4           0.2\n",
       "1      2            4.9           3.0            1.4           0.2\n",
       "2      3            4.7           3.2            1.3           0.2\n",
       "3      4            4.6           3.1            1.5           0.2\n",
       "4      5            5.0           3.6            1.4           0.2\n",
       "..   ...            ...           ...            ...           ...\n",
       "145  146            6.7           3.0            5.2           2.3\n",
       "146  147            6.3           2.5            5.0           1.9\n",
       "147  148            6.5           3.0            5.2           2.0\n",
       "148  149            6.2           3.4            5.4           2.3\n",
       "149  150            5.9           3.0            5.1           1.8\n",
       "\n",
       "[150 rows x 5 columns]"
      ]
     },
     "execution_count": 3,
     "metadata": {},
     "output_type": "execute_result"
    }
   ],
   "source": [
    "y=df['Species']\n",
    "x = df.drop(['Species'],axis=1)\n",
    "\n",
    "x\n"
   ]
  },
  {
   "cell_type": "code",
   "execution_count": 4,
   "id": "34d997c2",
   "metadata": {
    "execution": {
     "iopub.execute_input": "2024-06-05T08:49:54.977547Z",
     "iopub.status.busy": "2024-06-05T08:49:54.977169Z",
     "iopub.status.idle": "2024-06-05T08:49:54.982401Z",
     "shell.execute_reply": "2024-06-05T08:49:54.981371Z"
    },
    "papermill": {
     "duration": 0.017416,
     "end_time": "2024-06-05T08:49:54.984644",
     "exception": false,
     "start_time": "2024-06-05T08:49:54.967228",
     "status": "completed"
    },
    "tags": []
   },
   "outputs": [],
   "source": [
    "import matplotlib.pyplot as plt"
   ]
  },
  {
   "cell_type": "code",
   "execution_count": 5,
   "id": "f226aae5",
   "metadata": {
    "execution": {
     "iopub.execute_input": "2024-06-05T08:49:55.004307Z",
     "iopub.status.busy": "2024-06-05T08:49:55.003890Z",
     "iopub.status.idle": "2024-06-05T08:49:56.181907Z",
     "shell.execute_reply": "2024-06-05T08:49:56.180649Z"
    },
    "papermill": {
     "duration": 1.190845,
     "end_time": "2024-06-05T08:49:56.184414",
     "exception": false,
     "start_time": "2024-06-05T08:49:54.993569",
     "status": "completed"
    },
    "tags": []
   },
   "outputs": [],
   "source": [
    "from sklearn.preprocessing import StandardScaler\n",
    "scaler = StandardScaler()\n"
   ]
  },
  {
   "cell_type": "code",
   "execution_count": 6,
   "id": "a935fe98",
   "metadata": {
    "execution": {
     "iopub.execute_input": "2024-06-05T08:49:56.205272Z",
     "iopub.status.busy": "2024-06-05T08:49:56.204845Z",
     "iopub.status.idle": "2024-06-05T08:49:56.324873Z",
     "shell.execute_reply": "2024-06-05T08:49:56.323785Z"
    },
    "papermill": {
     "duration": 0.133354,
     "end_time": "2024-06-05T08:49:56.327399",
     "exception": false,
     "start_time": "2024-06-05T08:49:56.194045",
     "status": "completed"
    },
    "tags": []
   },
   "outputs": [],
   "source": [
    "from sklearn.model_selection import train_test_split\n",
    "\n",
    "X_train, X_test, y_train, y_test = train_test_split(\n",
    "    x, y, test_size=0.33, random_state=42)"
   ]
  },
  {
   "cell_type": "code",
   "execution_count": 7,
   "id": "00a49ee6",
   "metadata": {
    "execution": {
     "iopub.execute_input": "2024-06-05T08:49:56.347183Z",
     "iopub.status.busy": "2024-06-05T08:49:56.346328Z",
     "iopub.status.idle": "2024-06-05T08:49:56.357233Z",
     "shell.execute_reply": "2024-06-05T08:49:56.356261Z"
    },
    "papermill": {
     "duration": 0.023177,
     "end_time": "2024-06-05T08:49:56.359543",
     "exception": false,
     "start_time": "2024-06-05T08:49:56.336366",
     "status": "completed"
    },
    "tags": []
   },
   "outputs": [],
   "source": [
    "X_train_scaled = scaler.fit_transform(X_train)"
   ]
  },
  {
   "cell_type": "code",
   "execution_count": 8,
   "id": "b2cb5b47",
   "metadata": {
    "execution": {
     "iopub.execute_input": "2024-06-05T08:49:56.379458Z",
     "iopub.status.busy": "2024-06-05T08:49:56.378443Z",
     "iopub.status.idle": "2024-06-05T08:49:56.389914Z",
     "shell.execute_reply": "2024-06-05T08:49:56.388934Z"
    },
    "papermill": {
     "duration": 0.023797,
     "end_time": "2024-06-05T08:49:56.392139",
     "exception": false,
     "start_time": "2024-06-05T08:49:56.368342",
     "status": "completed"
    },
    "tags": []
   },
   "outputs": [
    {
     "data": {
      "text/plain": [
       "array([[ 0.47073869, -0.13835603, -0.25606255,  0.22188787,  0.11008189],\n",
       "       [ 0.68503551,  2.14752625, -0.01449411,  1.61230796,  1.18405156],\n",
       "       [-0.24358406, -0.25866563, -0.01449411,  0.39569038,  0.37857431],\n",
       "       [-1.8150941 , -0.8602136 ,  1.19334812, -1.4002689 , -1.36662641],\n",
       "       [ 1.08981841,  2.26783585, -0.497631  ,  1.67024213,  1.04980535],\n",
       "       [-0.2197733 , -0.01804644, -0.73919944,  0.1639537 , -0.29265674],\n",
       "       [-1.14839287, -0.739904  ,  0.95177968, -1.4002689 , -1.36662641],\n",
       "       [-0.86266377, -0.98052319,  1.19334812, -1.45820307, -1.2323802 ],\n",
       "       [-0.76742074, -0.8602136 ,  1.91805346, -1.11059804, -1.09813399],\n",
       "       [-0.38644861, -0.98052319, -2.43017856, -0.18365132, -0.29265674],\n",
       "       [ 1.11362916,  0.58350153, -0.73919944,  0.62742706,  0.78131293],\n",
       "       [-1.2436359 , -1.22114238,  0.95177968, -1.11059804, -1.36662641],\n",
       "       [-1.21982515, -0.98052319, -0.01449411, -1.28440056, -1.36662641],\n",
       "       [-1.26744666, -0.8602136 ,  0.71021123, -1.22646639, -0.96388778],\n",
       "       [ 0.42311717, -0.25866563, -0.73919944,  0.22188787,  0.11008189],\n",
       "       [-0.88647453, -0.8602136 ,  0.95177968, -1.34233473, -1.36662641],\n",
       "       [ 0.44692793, -0.13835603, -0.01449411,  0.22188787, -0.02416432],\n",
       "       [ 0.97076461,  2.26783585,  1.91805346,  1.67024213,  1.31829777],\n",
       "       [-0.69598846, -1.46176157,  0.46864278, -1.4002689 , -1.36662641],\n",
       "       [ 0.49454945,  0.46319194, -0.25606255,  0.27982204,  0.11008189],\n",
       "       [ 0.87552158, -0.13835603, -1.22233633,  0.68536123,  1.04980535],\n",
       "       [-1.02933908, -0.37897522,  2.88432724, -1.4002689 , -1.36662641],\n",
       "       [ 1.47079054,  0.22257275, -0.01449411,  0.56949289,  0.78131293],\n",
       "       [ 0.58979248, -0.01804644, -0.73919944,  0.7432954 ,  0.91555914],\n",
       "       [-0.33882709,  0.22257275, -1.94704167,  0.10601953, -0.29265674],\n",
       "       [ 0.18500959, -0.49928482, -0.01449411,  0.39569038,  0.37857431],\n",
       "       [ 1.70889812,  0.46319194,  0.95177968,  0.91709792,  1.45254398],\n",
       "       [-0.55312391, -0.37897522, -1.70547322,  0.10601953,  0.11008189],\n",
       "       [-1.69604031, -0.49928482,  2.1596219 , -1.22646639, -1.09813399],\n",
       "       [ 0.39930642, -0.98052319, -1.70547322, -0.29951966, -0.29265674],\n",
       "       [ 0.82790006,  0.70381112, -0.73919944,  0.85916375,  0.91555914],\n",
       "       [-0.64836695, -0.98052319,  0.71021123, -1.4002689 , -1.36662641],\n",
       "       [-0.98171756, -0.98052319,  0.46864278, -1.51613724, -1.36662641],\n",
       "       [ 0.08976656, -0.37897522, -1.46390478, -0.00984881, -0.15841053],\n",
       "       [ 0.01833428,  1.06473991, -0.01449411,  0.68536123,  0.64706673],\n",
       "       [-1.00552832, -1.10083279,  0.22707434, -1.34233473, -1.50087261],\n",
       "       [ 0.89933234, -0.01804644, -0.497631  ,  0.7432954 ,  1.58679019],\n",
       "       [-1.64841879, -0.98052319,  0.95177968, -1.34233473, -1.36662641],\n",
       "       [-0.7912315 , -0.98052319,  1.19334812, -1.28440056, -0.82964157],\n",
       "       [-0.14834102,  0.10226315,  0.46864278,  0.56949289,  0.78131293],\n",
       "       [ 0.51836021, -0.8602136 , -1.22233633, -0.47332217, -0.15841053],\n",
       "       [ 1.04219689,  1.30535909,  0.46864278,  1.09090043,  1.45254398],\n",
       "       [ 0.16119883,  0.22257275, -0.73919944,  0.7432954 ,  0.51282052],\n",
       "       [ 1.3755475 ,  0.34288234, -0.98076789,  1.03296626,  0.2443281 ],\n",
       "       [ 1.39935826,  2.26783585, -0.01449411,  1.32263711,  1.45254398],\n",
       "       [ 0.30406338, -0.37897522, -1.22233633,  0.10601953,  0.11008189],\n",
       "       [-1.62460804, -1.70238076, -0.25606255, -1.4002689 , -1.36662641],\n",
       "       [-1.50555424, -1.82269035, -0.01449411, -1.57407141, -1.50087261],\n",
       "       [ 1.01838613,  0.22257275, -1.94704167,  0.68536123,  0.37857431],\n",
       "       [ 1.16125068,  1.66628788,  0.46864278,  1.26470294,  0.78131293],\n",
       "       [-1.74366183, -1.46176157,  0.22707434, -1.34233473, -1.36662641],\n",
       "       [-1.41031121, -0.8602136 ,  1.19334812, -1.4002689 , -1.2323802 ],\n",
       "       [-0.91028529, -1.70238076, -0.01449411, -1.45820307, -1.36662641],\n",
       "       [-0.10071951,  0.58350153, -1.22233633,  0.62742706,  0.37857431],\n",
       "       [ 1.42316902,  0.58350153,  0.95177968,  1.03296626,  1.58679019],\n",
       "       [-1.67222955, -1.46176157,  0.95177968, -1.4002689 , -1.2323802 ],\n",
       "       [ 0.85171082,  1.1850495 , -0.01449411,  0.97503209,  1.18405156],\n",
       "       [ 0.56598172,  0.58350153,  0.71021123,  1.26470294,  1.7210364 ],\n",
       "       [-1.76747258, -1.34145197,  0.46864278, -1.45820307, -1.36662641],\n",
       "       [-0.31501633,  0.34288234, -0.25606255,  0.51155872,  0.2443281 ],\n",
       "       [-0.52931316,  0.82412072, -0.497631  ,  0.45362455,  0.37857431],\n",
       "       [ 1.18506144,  0.46319194, -0.497631  ,  0.56949289,  0.78131293],\n",
       "       [-0.62455619,  1.42566869,  0.46864278,  0.51155872,  0.2443281 ],\n",
       "       [ 0.9231431 ,  0.70381112,  0.46864278,  0.85916375,  1.45254398],\n",
       "       [-0.71979922, -0.8602136 ,  1.91805346, -1.28440056, -1.36662641],\n",
       "       [ 1.4946013 ,  1.30535909,  0.22707434,  0.91709792,  1.18405156],\n",
       "       [-0.36263785,  0.10226315, -0.01449411,  0.22188787,  0.37857431],\n",
       "       [ 1.68508736,  0.82412072, -0.01449411,  0.80122958,  1.04980535],\n",
       "       [ 0.0659558 , -0.13835603, -0.98076789, -0.18365132, -0.29265674],\n",
       "       [-0.41025936, -0.739904  , -0.73919944,  0.04808536,  0.2443281 ],\n",
       "       [ 0.3516849 ,  0.34288234, -0.01449411,  0.45362455,  0.2443281 ],\n",
       "       [-0.83885301, -1.58207116, -1.70547322, -1.45820307, -1.2323802 ],\n",
       "       [-0.43407012,  0.94443031, -0.25606255,  0.45362455,  0.11008189],\n",
       "       [ 0.32787414, -0.37897522, -0.98076789,  0.33775621, -0.02416432],\n",
       "       [-0.67217771, -0.61959441,  1.67648501, -1.34233473, -1.36662641],\n",
       "       [ 0.28025262, -0.25866563, -0.01449411,  0.1639537 ,  0.11008189],\n",
       "       [ 0.73265703,  1.78659747, -0.25606255,  1.43850545,  0.78131293],\n",
       "       [ 1.13743992,  1.06473991,  0.71021123,  1.09090043,  1.18405156],\n",
       "       [-1.31506818, -0.8602136 ,  1.67648501, -1.34233473, -1.09813399],\n",
       "       [-0.45788088, -1.10083279, -1.46390478, -0.29951966, -0.29265674],\n",
       "       [ 1.61365509,  1.06473991,  0.71021123,  1.09090043,  1.7210364 ],\n",
       "       [ 1.25649371,  1.66628788, -0.01449411,  1.1488346 ,  0.51282052],\n",
       "       [-0.93409605, -1.10083279,  0.22707434, -1.34233473, -1.50087261],\n",
       "       [ 1.51841205,  1.06473991,  0.22707434,  1.03296626,  1.58679019],\n",
       "       [-1.79128334, -1.10083279, -0.01449411, -1.4002689 , -1.36662641],\n",
       "       [-0.57693467,  1.30535909,  0.22707434,  0.62742706,  0.37857431],\n",
       "       [ 1.28030447,  1.90690706, -0.497631  ,  1.32263711,  0.91555914],\n",
       "       [ 0.637414  ,  0.58350153, -0.25606255,  1.03296626,  0.78131293],\n",
       "       [ 0.54217097, -0.13835603, -0.497631  ,  0.1639537 ,  0.11008189],\n",
       "       [ 0.94695386,  0.82412072, -0.01449411,  0.97503209,  0.78131293],\n",
       "       [ 0.25644187,  0.58350153, -1.70547322,  0.33775621,  0.11008189],\n",
       "       [-0.05309799,  0.70381112, -0.25606255,  0.27982204,  0.11008189],\n",
       "       [ 1.06600765, -0.25866563, -0.497631  ,  0.62742706,  1.04980535],\n",
       "       [ 1.73270888,  0.10226315, -0.01449411,  0.7432954 ,  0.78131293],\n",
       "       [-1.33887894, -0.49928482,  0.95177968, -1.22646639, -1.36662641],\n",
       "       [-0.12453027,  0.34288234, -0.497631  ,  0.10601953,  0.11008189],\n",
       "       [ 0.70884627, -1.10083279, -1.22233633,  0.39569038,  0.64706673],\n",
       "       [-1.48174349, -0.01804644,  2.40119035, -1.51613724, -1.36662641],\n",
       "       [ 0.37549566, -0.01804644, -0.98076789,  0.10601953, -0.02416432],\n",
       "       [ 0.61360324,  1.54597828, -0.01449411,  1.20676877,  1.18405156]])"
      ]
     },
     "execution_count": 8,
     "metadata": {},
     "output_type": "execute_result"
    }
   ],
   "source": [
    "X_train_scaled"
   ]
  },
  {
   "cell_type": "code",
   "execution_count": 9,
   "id": "aae1cabd",
   "metadata": {
    "execution": {
     "iopub.execute_input": "2024-06-05T08:49:56.413982Z",
     "iopub.status.busy": "2024-06-05T08:49:56.413071Z",
     "iopub.status.idle": "2024-06-05T08:49:56.419981Z",
     "shell.execute_reply": "2024-06-05T08:49:56.418943Z"
    },
    "papermill": {
     "duration": 0.019525,
     "end_time": "2024-06-05T08:49:56.422190",
     "exception": false,
     "start_time": "2024-06-05T08:49:56.402665",
     "status": "completed"
    },
    "tags": []
   },
   "outputs": [
    {
     "data": {
      "text/plain": [
       "(100, 5)"
      ]
     },
     "execution_count": 9,
     "metadata": {},
     "output_type": "execute_result"
    }
   ],
   "source": [
    "X_train_scaled.shape"
   ]
  },
  {
   "cell_type": "code",
   "execution_count": 10,
   "id": "6b985ff4",
   "metadata": {
    "execution": {
     "iopub.execute_input": "2024-06-05T08:49:56.443375Z",
     "iopub.status.busy": "2024-06-05T08:49:56.442235Z",
     "iopub.status.idle": "2024-06-05T08:49:56.451084Z",
     "shell.execute_reply": "2024-06-05T08:49:56.449874Z"
    },
    "papermill": {
     "duration": 0.022059,
     "end_time": "2024-06-05T08:49:56.453660",
     "exception": false,
     "start_time": "2024-06-05T08:49:56.431601",
     "status": "completed"
    },
    "tags": []
   },
   "outputs": [],
   "source": [
    "X_test_scaled =scaler.fit_transform(X_test)"
   ]
  },
  {
   "cell_type": "code",
   "execution_count": 11,
   "id": "183c2f4b",
   "metadata": {
    "execution": {
     "iopub.execute_input": "2024-06-05T08:49:56.474138Z",
     "iopub.status.busy": "2024-06-05T08:49:56.473736Z",
     "iopub.status.idle": "2024-06-05T08:49:56.484271Z",
     "shell.execute_reply": "2024-06-05T08:49:56.483363Z"
    },
    "papermill": {
     "duration": 0.023246,
     "end_time": "2024-06-05T08:49:56.486587",
     "exception": false,
     "start_time": "2024-06-05T08:49:56.463341",
     "status": "completed"
    },
    "tags": []
   },
   "outputs": [
    {
     "data": {
      "text/plain": [
       "array([[ 0.04298454,  0.24678197, -0.77548344,  0.58258322,  0.05065321],\n",
       "       [-1.16321428, -0.24678197,  1.44018354, -1.06935408, -1.08904393],\n",
       "       [ 1.02987449,  2.22103771, -1.21861684,  1.7940039 ,  1.44361637],\n",
       "       [ 0.15263898,  0.12339098, -0.55391675,  0.47245407,  0.43055225],\n",
       "       [ 0.1087772 ,  1.11051886, -0.77548344,  0.6376478 ,  0.30391924],\n",
       "       [-0.87811274, -0.61695492,  0.55391675, -1.17948323, -0.96241091],\n",
       "       [-0.15439345, -0.37017295, -0.55391675, -0.02312712,  0.17728622],\n",
       "       [ 1.5342849 ,  1.23390984, -0.11078335,  0.80284153,  1.44361637],\n",
       "       [-0.0666699 ,  0.37017295, -2.10488363,  0.47245407,  0.43055225],\n",
       "       [ 0.24036253, -0.12339098, -0.99705014,  0.14206661,  0.05065321],\n",
       "       [ 0.85442739,  0.7403459 ,  0.11078335,  0.80284153,  1.06371733],\n",
       "       [-1.29479961, -1.35730083, -0.33235005, -1.23454781, -1.34230996],\n",
       "       [-0.76845831, -0.49356394,  0.77548344, -1.28961238, -1.21567694],\n",
       "       [-1.36059227, -1.23390984, -0.11078335, -1.17948323, -1.34230996],\n",
       "       [-1.1412834 , -0.98712787,  1.44018354, -1.17948323, -1.08904393],\n",
       "       [-0.32984055,  0.49356394,  0.33235005,  0.58258322,  0.55718527],\n",
       "       [ 0.72284206,  0.7403459 , -0.33235005,  1.18829356,  1.31698335],\n",
       "       [-0.04473901, -0.37017295, -1.44018354,  0.14206661, -0.07597981],\n",
       "       [-0.35177144, -0.24678197, -0.77548344,  0.47245407,  0.17728622],\n",
       "       [ 1.33690692,  0.61695492, -0.77548344,  1.07816441,  1.31698335],\n",
       "       [-0.92197452, -1.48069181,  0.11078335, -1.12441865, -1.21567694],\n",
       "       [ 1.22725248,  0.24678197, -0.33235005,  0.69271237,  0.8104513 ],\n",
       "       [-0.98776718, -1.11051886,  0.55391675, -1.12441865, -0.96241091],\n",
       "       [ 1.24918336,  0.61695492, -0.77548344,  1.07816441,  1.19035034],\n",
       "       [ 1.31497603,  2.46781968,  1.44018354,  1.51868102,  1.06371733],\n",
       "       [ 1.62200846,  0.98712787, -0.33235005,  0.8579061 ,  1.44361637],\n",
       "       [ 0.81056561,  0.98712787, -1.44018354,  1.18829356,  0.8104513 ],\n",
       "       [ 1.57814668,  1.11051886,  0.11078335,  1.24335814,  1.44361637],\n",
       "       [-0.57108032, -1.35730083, -0.33235005, -1.23454781, -1.08904393],\n",
       "       [-0.90004363, -1.35730083, -0.11078335, -1.12441865, -1.21567694],\n",
       "       [-1.07549073, -1.60408279,  0.99705014, -1.45480611, -1.21567694],\n",
       "       [-1.22900695, -0.24678197,  2.76958373, -1.17948323, -0.96241091],\n",
       "       [-0.13246256,  0.98712787, -0.11078335,  0.41738949,  0.30391924],\n",
       "       [-1.3167305 , -1.35730083,  0.55391675, -1.12441865, -1.21567694],\n",
       "       [-0.63687298, -1.85086476,  0.11078335, -1.28961238, -1.21567694],\n",
       "       [ 1.64393934,  0.49356394, -1.44018354,  0.74777695,  0.93708431],\n",
       "       [-0.43949499,  0.61695492,  0.11078335,  0.47245407,  0.43055225],\n",
       "       [-0.9658363 , -0.86373689,  0.77548344, -1.17948323, -1.21567694],\n",
       "       [-1.47024671, -1.11051886,  0.99705014, -1.23454781, -1.21567694],\n",
       "       [-0.85618186, -0.86373689,  2.10488363, -1.17948323, -1.34230996],\n",
       "       [ 1.55621579, -0.12339098, -0.99705014,  0.80284153,  0.93708431],\n",
       "       [ 0.30615519,  0.12339098,  0.55391675,  0.47245407,  0.55718527],\n",
       "       [ 0.32808608,  0.98712787, -0.11078335,  0.58258322,  0.43055225],\n",
       "       [-1.20707606, -0.61695492,  1.66175024, -1.28961238, -0.96241091],\n",
       "       [-1.33866139, -0.61695492,  1.21861684, -1.17948323, -1.21567694],\n",
       "       [ 0.21843164, -0.49356394, -1.66175024,  0.03193745, -0.20261282],\n",
       "       [ 1.3588378 ,  0.49356394, -0.77548344,  0.80284153,  0.43055225],\n",
       "       [ 1.44656135,  0.61695492, -0.11078335,  1.02309983,  0.8104513 ],\n",
       "       [ 0.08684632,  0.86373689, -0.33235005,  0.41738949,  0.30391924],\n",
       "       [ 0.8324965 ,  1.60408279,  0.99705014,  1.35348729,  1.6968824 ]])"
      ]
     },
     "execution_count": 11,
     "metadata": {},
     "output_type": "execute_result"
    }
   ],
   "source": [
    "X_test_scaled"
   ]
  },
  {
   "cell_type": "code",
   "execution_count": 12,
   "id": "857d2f86",
   "metadata": {
    "execution": {
     "iopub.execute_input": "2024-06-05T08:49:56.507708Z",
     "iopub.status.busy": "2024-06-05T08:49:56.507311Z",
     "iopub.status.idle": "2024-06-05T08:49:56.514349Z",
     "shell.execute_reply": "2024-06-05T08:49:56.513244Z"
    },
    "papermill": {
     "duration": 0.020048,
     "end_time": "2024-06-05T08:49:56.516497",
     "exception": false,
     "start_time": "2024-06-05T08:49:56.496449",
     "status": "completed"
    },
    "tags": []
   },
   "outputs": [
    {
     "data": {
      "text/plain": [
       "(50, 5)"
      ]
     },
     "execution_count": 12,
     "metadata": {},
     "output_type": "execute_result"
    }
   ],
   "source": [
    "X_test_scaled.shape"
   ]
  },
  {
   "cell_type": "markdown",
   "id": "cb009542",
   "metadata": {
    "papermill": {
     "duration": 0.009195,
     "end_time": "2024-06-05T08:49:56.535193",
     "exception": false,
     "start_time": "2024-06-05T08:49:56.525998",
     "status": "completed"
    },
    "tags": []
   },
   "source": [
    "# apply PCA to convert 5d to lower dimension used in unsupervised algo\n",
    "\n",
    "#  PCA, thus converts data from high dimensional space to low dimensional space by selecting the most important attributes that capture maximum information about the dataset."
   ]
  },
  {
   "cell_type": "code",
   "execution_count": 13,
   "id": "d214cd7c",
   "metadata": {
    "execution": {
     "iopub.execute_input": "2024-06-05T08:49:56.557492Z",
     "iopub.status.busy": "2024-06-05T08:49:56.556534Z",
     "iopub.status.idle": "2024-06-05T08:49:56.700242Z",
     "shell.execute_reply": "2024-06-05T08:49:56.698871Z"
    },
    "papermill": {
     "duration": 0.157198,
     "end_time": "2024-06-05T08:49:56.702835",
     "exception": false,
     "start_time": "2024-06-05T08:49:56.545637",
     "status": "completed"
    },
    "tags": []
   },
   "outputs": [],
   "source": [
    "from sklearn.decomposition import PCA\n",
    "pca = PCA(n_components=2) "
   ]
  },
  {
   "cell_type": "code",
   "execution_count": 14,
   "id": "6424fec0",
   "metadata": {
    "execution": {
     "iopub.execute_input": "2024-06-05T08:49:56.724177Z",
     "iopub.status.busy": "2024-06-05T08:49:56.723283Z",
     "iopub.status.idle": "2024-06-05T08:49:56.743069Z",
     "shell.execute_reply": "2024-06-05T08:49:56.741710Z"
    },
    "papermill": {
     "duration": 0.033147,
     "end_time": "2024-06-05T08:49:56.745578",
     "exception": false,
     "start_time": "2024-06-05T08:49:56.712431",
     "status": "completed"
    },
    "tags": []
   },
   "outputs": [],
   "source": [
    "pca_scaled = pca.fit_transform(X_train_scaled)\n"
   ]
  },
  {
   "cell_type": "code",
   "execution_count": 15,
   "id": "35ce344b",
   "metadata": {
    "execution": {
     "iopub.execute_input": "2024-06-05T08:49:56.766300Z",
     "iopub.status.busy": "2024-06-05T08:49:56.765843Z",
     "iopub.status.idle": "2024-06-05T08:49:56.775950Z",
     "shell.execute_reply": "2024-06-05T08:49:56.774757Z"
    },
    "papermill": {
     "duration": 0.023296,
     "end_time": "2024-06-05T08:49:56.778395",
     "exception": false,
     "start_time": "2024-06-05T08:49:56.755099",
     "status": "completed"
    },
    "tags": []
   },
   "outputs": [],
   "source": [
    "pca_scaled_test = pca.transform(X_test_scaled)"
   ]
  },
  {
   "cell_type": "code",
   "execution_count": 16,
   "id": "f3514860",
   "metadata": {
    "execution": {
     "iopub.execute_input": "2024-06-05T08:49:56.799172Z",
     "iopub.status.busy": "2024-06-05T08:49:56.798199Z",
     "iopub.status.idle": "2024-06-05T08:49:56.805250Z",
     "shell.execute_reply": "2024-06-05T08:49:56.804139Z"
    },
    "papermill": {
     "duration": 0.019611,
     "end_time": "2024-06-05T08:49:56.807414",
     "exception": false,
     "start_time": "2024-06-05T08:49:56.787803",
     "status": "completed"
    },
    "tags": []
   },
   "outputs": [
    {
     "data": {
      "text/plain": [
       "(100, 2)"
      ]
     },
     "execution_count": 16,
     "metadata": {},
     "output_type": "execute_result"
    }
   ],
   "source": [
    "pca_scaled.shape"
   ]
  },
  {
   "cell_type": "code",
   "execution_count": 17,
   "id": "a6adfef8",
   "metadata": {
    "execution": {
     "iopub.execute_input": "2024-06-05T08:49:56.827769Z",
     "iopub.status.busy": "2024-06-05T08:49:56.827389Z",
     "iopub.status.idle": "2024-06-05T08:49:56.834739Z",
     "shell.execute_reply": "2024-06-05T08:49:56.833456Z"
    },
    "papermill": {
     "duration": 0.020171,
     "end_time": "2024-06-05T08:49:56.837021",
     "exception": false,
     "start_time": "2024-06-05T08:49:56.816850",
     "status": "completed"
    },
    "tags": []
   },
   "outputs": [
    {
     "data": {
      "text/plain": [
       "(50, 2)"
      ]
     },
     "execution_count": 17,
     "metadata": {},
     "output_type": "execute_result"
    }
   ],
   "source": [
    "pca_scaled_test.shape"
   ]
  },
  {
   "cell_type": "markdown",
   "id": "68d96d92",
   "metadata": {
    "papermill": {
     "duration": 0.009174,
     "end_time": "2024-06-05T08:49:56.855726",
     "exception": false,
     "start_time": "2024-06-05T08:49:56.846552",
     "status": "completed"
    },
    "tags": []
   },
   "source": []
  },
  {
   "cell_type": "markdown",
   "id": "82387905",
   "metadata": {
    "papermill": {
     "duration": 0.009148,
     "end_time": "2024-06-05T08:49:56.874734",
     "exception": false,
     "start_time": "2024-06-05T08:49:56.865586",
     "status": "completed"
    },
    "tags": []
   },
   "source": []
  },
  {
   "cell_type": "code",
   "execution_count": 18,
   "id": "81ab53eb",
   "metadata": {
    "execution": {
     "iopub.execute_input": "2024-06-05T08:49:56.895318Z",
     "iopub.status.busy": "2024-06-05T08:49:56.894894Z",
     "iopub.status.idle": "2024-06-05T08:49:57.250788Z",
     "shell.execute_reply": "2024-06-05T08:49:57.249544Z"
    },
    "papermill": {
     "duration": 0.369139,
     "end_time": "2024-06-05T08:49:57.253387",
     "exception": false,
     "start_time": "2024-06-05T08:49:56.884248",
     "status": "completed"
    },
    "tags": []
   },
   "outputs": [
    {
     "data": {
      "text/plain": [
       "<matplotlib.collections.PathCollection at 0x7e01c9d04880>"
      ]
     },
     "execution_count": 18,
     "metadata": {},
     "output_type": "execute_result"
    },
    {
     "data": {
      "image/png": "[encoded data removed]",
      "text/plain": [
       "<Figure size 640x480 with 1 Axes>"
      ]
     },
     "metadata": {},
     "output_type": "display_data"
    }
   ],
   "source": [
    "plt.scatter(pca_scaled[:,0], pca_scaled[:,1])"
   ]
  },
  {
   "cell_type": "code",
   "execution_count": 19,
   "id": "20fb8238",
   "metadata": {
    "execution": {
     "iopub.execute_input": "2024-06-05T08:49:57.276035Z",
     "iopub.status.busy": "2024-06-05T08:49:57.275615Z",
     "iopub.status.idle": "2024-06-05T08:49:57.480795Z",
     "shell.execute_reply": "2024-06-05T08:49:57.479486Z"
    },
    "papermill": {
     "duration": 0.219809,
     "end_time": "2024-06-05T08:49:57.483361",
     "exception": false,
     "start_time": "2024-06-05T08:49:57.263552",
     "status": "completed"
    },
    "tags": []
   },
   "outputs": [
    {
     "data": {
      "text/plain": [
       "<matplotlib.collections.PathCollection at 0x7e01ca4c5ed0>"
      ]
     },
     "execution_count": 19,
     "metadata": {},
     "output_type": "execute_result"
    },
    {
     "data": {
      "image/png": "[encoded data removed]",
      "text/plain": [
       "<Figure size 640x480 with 1 Axes>"
      ]
     },
     "metadata": {},
     "output_type": "display_data"
    }
   ],
   "source": [
    "plt.scatter(pca_scaled_test[:,0], pca_scaled_test[:,1])"
   ]
  },
  {
   "cell_type": "code",
   "execution_count": 20,
   "id": "56f987c9",
   "metadata": {
    "execution": {
     "iopub.execute_input": "2024-06-05T08:49:57.507034Z",
     "iopub.status.busy": "2024-06-05T08:49:57.506630Z",
     "iopub.status.idle": "2024-06-05T08:49:59.034599Z",
     "shell.execute_reply": "2024-06-05T08:49:59.033278Z"
    },
    "papermill": {
     "duration": 1.54217,
     "end_time": "2024-06-05T08:49:59.037035",
     "exception": false,
     "start_time": "2024-06-05T08:49:57.494865",
     "status": "completed"
    },
    "tags": []
   },
   "outputs": [
    {
     "data": {
      "text/plain": [
       "Text(0, 0.5, 'Ecludian distance')"
      ]
     },
     "execution_count": 20,
     "metadata": {},
     "output_type": "execute_result"
    },
    {
     "data": {
      "image/png": "[encoded data removed]",
      "text/plain": [
       "<Figure size 2000x700 with 1 Axes>"
      ]
     },
     "metadata": {},
     "output_type": "display_data"
    }
   ],
   "source": [
    "# Agglomerative Clustering\n",
    "# Construct a dendogram and find k value\n",
    "import scipy.cluster.hierarchy as sc\n",
    "\n",
    "plt.figure(figsize=(20,7))\n",
    "plt.title('Dendogram')\n",
    "\n",
    "# create dendogram method ward defines to use ecludian distance\n",
    "sc.dendrogram(sc.linkage(pca_scaled,method='ward'))\n",
    "plt.title('Dendogram')\n",
    "plt.xlabel('Sample Index')\n",
    "plt.ylabel('Ecludian distance')"
   ]
  },
  {
   "cell_type": "code",
   "execution_count": 21,
   "id": "6c0f6daf",
   "metadata": {
    "execution": {
     "iopub.execute_input": "2024-06-05T08:49:59.060891Z",
     "iopub.status.busy": "2024-06-05T08:49:59.060505Z",
     "iopub.status.idle": "2024-06-05T08:50:00.017882Z",
     "shell.execute_reply": "2024-06-05T08:50:00.016700Z"
    },
    "papermill": {
     "duration": 0.972478,
     "end_time": "2024-06-05T08:50:00.020583",
     "exception": false,
     "start_time": "2024-06-05T08:49:59.048105",
     "status": "completed"
    },
    "tags": []
   },
   "outputs": [
    {
     "data": {
      "text/plain": [
       "Text(0, 0.5, 'Ecludian distance')"
      ]
     },
     "execution_count": 21,
     "metadata": {},
     "output_type": "execute_result"
    },
    {
     "data": {
      "image/png": "[encoded data removed]",
      "text/plain": [
       "<Figure size 2000x700 with 1 Axes>"
      ]
     },
     "metadata": {},
     "output_type": "display_data"
    }
   ],
   "source": [
    "# Agglomerative Clustering\n",
    "# Construct a dendogram and find k value\n",
    "import scipy.cluster.hierarchy as sc\n",
    "\n",
    "plt.figure(figsize=(20,7))\n",
    "plt.title('Dendogram')\n",
    "\n",
    "# create dendogram method ward defines to use ecludian distance\n",
    "sc.dendrogram(sc.linkage(pca_scaled_test,method='ward'))\n",
    "plt.title('Dendogram')\n",
    "plt.xlabel('Sample Index')\n",
    "plt.ylabel('Ecludian distance')"
   ]
  },
  {
   "cell_type": "markdown",
   "id": "a3ee7512",
   "metadata": {
    "papermill": {
     "duration": 0.012046,
     "end_time": "2024-06-05T08:50:00.045782",
     "exception": false,
     "start_time": "2024-06-05T08:50:00.033736",
     "status": "completed"
    },
    "tags": []
   },
   "source": [
    "# From Dendogram, we find k=2"
   ]
  },
  {
   "cell_type": "code",
   "execution_count": 22,
   "id": "b1a27a1d",
   "metadata": {
    "execution": {
     "iopub.execute_input": "2024-06-05T08:50:00.074195Z",
     "iopub.status.busy": "2024-06-05T08:50:00.073814Z",
     "iopub.status.idle": "2024-06-05T08:50:00.255799Z",
     "shell.execute_reply": "2024-06-05T08:50:00.253894Z"
    },
    "papermill": {
     "duration": 0.200076,
     "end_time": "2024-06-05T08:50:00.258652",
     "exception": false,
     "start_time": "2024-06-05T08:50:00.058576",
     "status": "completed"
    },
    "tags": []
   },
   "outputs": [
    {
     "data": {
      "text/html": [
       "<style>#sk-container-id-1 {color: black;background-color: white;}#sk-container-id-1 pre{padding: 0;}#sk-container-id-1 div.sk-toggleable {background-color: white;}#sk-container-id-1 label.sk-toggleable__label {cursor: pointer;display: block;width: 100%;margin-bottom: 0;padding: 0.3em;box-sizing: border-box;text-align: center;}#sk-container-id-1 label.sk-toggleable__label-arrow:before {content: \"▸\";float: left;margin-right: 0.25em;color: #696969;}#sk-container-id-1 label.sk-toggleable__label-arrow:hover:before {color: black;}#sk-container-id-1 div.sk-estimator:hover label.sk-toggleable__label-arrow:before {color: black;}#sk-container-id-1 div.sk-toggleable__content {max-height: 0;max-width: 0;overflow: hidden;text-align: left;background-color: #f0f8ff;}#sk-container-id-1 div.sk-toggleable__content pre {margin: 0.2em;color: black;border-radius: 0.25em;background-color: #f0f8ff;}#sk-container-id-1 input.sk-toggleable__control:checked~div.sk-toggleable__content {max-height: 200px;max-width: 100%;overflow: auto;}#sk-container-id-1 input.sk-toggleable__control:checked~label.sk-toggleable__label-arrow:before {content: \"▾\";}#sk-container-id-1 div.sk-estimator input.sk-toggleable__control:checked~label.sk-toggleable__label {background-color: #d4ebff;}#sk-container-id-1 div.sk-label input.sk-toggleable__control:checked~label.sk-toggleable__label {background-color: #d4ebff;}#sk-container-id-1 input.sk-hidden--visually {border: 0;clip: rect(1px 1px 1px 1px);clip: rect(1px, 1px, 1px, 1px);height: 1px;margin: -1px;overflow: hidden;padding: 0;position: absolute;width: 1px;}#sk-container-id-1 div.sk-estimator {font-family: monospace;background-color: #f0f8ff;border: 1px dotted black;border-radius: 0.25em;box-sizing: border-box;margin-bottom: 0.5em;}#sk-container-id-1 div.sk-estimator:hover {background-color: #d4ebff;}#sk-container-id-1 div.sk-parallel-item::after {content: \"\";width: 100%;border-bottom: 1px solid gray;flex-grow: 1;}#sk-container-id-1 div.sk-label:hover label.sk-toggleable__label {background-color: #d4ebff;}#sk-container-id-1 div.sk-serial::before {content: \"\";position: absolute;border-left: 1px solid gray;box-sizing: border-box;top: 0;bottom: 0;left: 50%;z-index: 0;}#sk-container-id-1 div.sk-serial {display: flex;flex-direction: column;align-items: center;background-color: white;padding-right: 0.2em;padding-left: 0.2em;position: relative;}#sk-container-id-1 div.sk-item {position: relative;z-index: 1;}#sk-container-id-1 div.sk-parallel {display: flex;align-items: stretch;justify-content: center;background-color: white;position: relative;}#sk-container-id-1 div.sk-item::before, #sk-container-id-1 div.sk-parallel-item::before {content: \"\";position: absolute;border-left: 1px solid gray;box-sizing: border-box;top: 0;bottom: 0;left: 50%;z-index: -1;}#sk-container-id-1 div.sk-parallel-item {display: flex;flex-direction: column;z-index: 1;position: relative;background-color: white;}#sk-container-id-1 div.sk-parallel-item:first-child::after {align-self: flex-end;width: 50%;}#sk-container-id-1 div.sk-parallel-item:last-child::after {align-self: flex-start;width: 50%;}#sk-container-id-1 div.sk-parallel-item:only-child::after {width: 0;}#sk-container-id-1 div.sk-dashed-wrapped {border: 1px dashed gray;margin: 0 0.4em 0.5em 0.4em;box-sizing: border-box;padding-bottom: 0.4em;background-color: white;}#sk-container-id-1 div.sk-label label {font-family: monospace;font-weight: bold;display: inline-block;line-height: 1.2em;}#sk-container-id-1 div.sk-label-container {text-align: center;}#sk-container-id-1 div.sk-container {/* jupyter's `normalize.less` sets `[hidden] { display: none; }` but bootstrap.min.css set `[hidden] { display: none !important; }` so we also need the `!important` here to be able to override the default hidden behavior on the sphinx rendered scikit-learn.org. See: https://github.com/scikit-learn/scikit-learn/issues/21755 */display: inline-block !important;position: relative;}#sk-container-id-1 div.sk-text-repr-fallback {display: none;}</style><div id=\"sk-container-id-1\" class=\"sk-top-container\"><div class=\"sk-text-repr-fallback\"><pre>AgglomerativeClustering(metric=&#x27;euclidean&#x27;)</pre><b>In a Jupyter environment, please rerun this cell to show the HTML representation or trust the notebook. <br />On GitHub, the HTML representation is unable to render, please try loading this page with nbviewer.org.</b></div><div class=\"sk-container\" hidden><div class=\"sk-item\"><div class=\"sk-estimator sk-toggleable\"><input class=\"sk-toggleable__control sk-hidden--visually\" id=\"sk-estimator-id-1\" type=\"checkbox\" checked><label for=\"sk-estimator-id-1\" class=\"sk-toggleable__label sk-toggleable__label-arrow\">AgglomerativeClustering</label><div class=\"sk-toggleable__content\"><pre>AgglomerativeClustering(metric=&#x27;euclidean&#x27;)</pre></div></div></div></div></div>"
      ],
      "text/plain": [
       "AgglomerativeClustering(metric='euclidean')"
      ]
     },
     "execution_count": 22,
     "metadata": {},
     "output_type": "execute_result"
    }
   ],
   "source": [
    "from sklearn.cluster import AgglomerativeClustering\n",
    "cluster = AgglomerativeClustering(n_clusters=2, metric='euclidean',linkage='ward')\n",
    "cluster.fit(pca_scaled)"
   ]
  },
  {
   "cell_type": "code",
   "execution_count": 23,
   "id": "f8b4400a",
   "metadata": {
    "execution": {
     "iopub.execute_input": "2024-06-05T08:50:00.285504Z",
     "iopub.status.busy": "2024-06-05T08:50:00.284595Z",
     "iopub.status.idle": "2024-06-05T08:50:00.294873Z",
     "shell.execute_reply": "2024-06-05T08:50:00.293496Z"
    },
    "papermill": {
     "duration": 0.026896,
     "end_time": "2024-06-05T08:50:00.297715",
     "exception": false,
     "start_time": "2024-06-05T08:50:00.270819",
     "status": "completed"
    },
    "tags": []
   },
   "outputs": [
    {
     "data": {
      "text/html": [
       "<style>#sk-container-id-2 {color: black;background-color: white;}#sk-container-id-2 pre{padding: 0;}#sk-container-id-2 div.sk-toggleable {background-color: white;}#sk-container-id-2 label.sk-toggleable__label {cursor: pointer;display: block;width: 100%;margin-bottom: 0;padding: 0.3em;box-sizing: border-box;text-align: center;}#sk-container-id-2 label.sk-toggleable__label-arrow:before {content: \"▸\";float: left;margin-right: 0.25em;color: #696969;}#sk-container-id-2 label.sk-toggleable__label-arrow:hover:before {color: black;}#sk-container-id-2 div.sk-estimator:hover label.sk-toggleable__label-arrow:before {color: black;}#sk-container-id-2 div.sk-toggleable__content {max-height: 0;max-width: 0;overflow: hidden;text-align: left;background-color: #f0f8ff;}#sk-container-id-2 div.sk-toggleable__content pre {margin: 0.2em;color: black;border-radius: 0.25em;background-color: #f0f8ff;}#sk-container-id-2 input.sk-toggleable__control:checked~div.sk-toggleable__content {max-height: 200px;max-width: 100%;overflow: auto;}#sk-container-id-2 input.sk-toggleable__control:checked~label.sk-toggleable__label-arrow:before {content: \"▾\";}#sk-container-id-2 div.sk-estimator input.sk-toggleable__control:checked~label.sk-toggleable__label {background-color: #d4ebff;}#sk-container-id-2 div.sk-label input.sk-toggleable__control:checked~label.sk-toggleable__label {background-color: #d4ebff;}#sk-container-id-2 input.sk-hidden--visually {border: 0;clip: rect(1px 1px 1px 1px);clip: rect(1px, 1px, 1px, 1px);height: 1px;margin: -1px;overflow: hidden;padding: 0;position: absolute;width: 1px;}#sk-container-id-2 div.sk-estimator {font-family: monospace;background-color: #f0f8ff;border: 1px dotted black;border-radius: 0.25em;box-sizing: border-box;margin-bottom: 0.5em;}#sk-container-id-2 div.sk-estimator:hover {background-color: #d4ebff;}#sk-container-id-2 div.sk-parallel-item::after {content: \"\";width: 100%;border-bottom: 1px solid gray;flex-grow: 1;}#sk-container-id-2 div.sk-label:hover label.sk-toggleable__label {background-color: #d4ebff;}#sk-container-id-2 div.sk-serial::before {content: \"\";position: absolute;border-left: 1px solid gray;box-sizing: border-box;top: 0;bottom: 0;left: 50%;z-index: 0;}#sk-container-id-2 div.sk-serial {display: flex;flex-direction: column;align-items: center;background-color: white;padding-right: 0.2em;padding-left: 0.2em;position: relative;}#sk-container-id-2 div.sk-item {position: relative;z-index: 1;}#sk-container-id-2 div.sk-parallel {display: flex;align-items: stretch;justify-content: center;background-color: white;position: relative;}#sk-container-id-2 div.sk-item::before, #sk-container-id-2 div.sk-parallel-item::before {content: \"\";position: absolute;border-left: 1px solid gray;box-sizing: border-box;top: 0;bottom: 0;left: 50%;z-index: -1;}#sk-container-id-2 div.sk-parallel-item {display: flex;flex-direction: column;z-index: 1;position: relative;background-color: white;}#sk-container-id-2 div.sk-parallel-item:first-child::after {align-self: flex-end;width: 50%;}#sk-container-id-2 div.sk-parallel-item:last-child::after {align-self: flex-start;width: 50%;}#sk-container-id-2 div.sk-parallel-item:only-child::after {width: 0;}#sk-container-id-2 div.sk-dashed-wrapped {border: 1px dashed gray;margin: 0 0.4em 0.5em 0.4em;box-sizing: border-box;padding-bottom: 0.4em;background-color: white;}#sk-container-id-2 div.sk-label label {font-family: monospace;font-weight: bold;display: inline-block;line-height: 1.2em;}#sk-container-id-2 div.sk-label-container {text-align: center;}#sk-container-id-2 div.sk-container {/* jupyter's `normalize.less` sets `[hidden] { display: none; }` but bootstrap.min.css set `[hidden] { display: none !important; }` so we also need the `!important` here to be able to override the default hidden behavior on the sphinx rendered scikit-learn.org. See: https://github.com/scikit-learn/scikit-learn/issues/21755 */display: inline-block !important;position: relative;}#sk-container-id-2 div.sk-text-repr-fallback {display: none;}</style><div id=\"sk-container-id-2\" class=\"sk-top-container\"><div class=\"sk-text-repr-fallback\"><pre>AgglomerativeClustering(metric=&#x27;euclidean&#x27;)</pre><b>In a Jupyter environment, please rerun this cell to show the HTML representation or trust the notebook. <br />On GitHub, the HTML representation is unable to render, please try loading this page with nbviewer.org.</b></div><div class=\"sk-container\" hidden><div class=\"sk-item\"><div class=\"sk-estimator sk-toggleable\"><input class=\"sk-toggleable__control sk-hidden--visually\" id=\"sk-estimator-id-2\" type=\"checkbox\" checked><label for=\"sk-estimator-id-2\" class=\"sk-toggleable__label sk-toggleable__label-arrow\">AgglomerativeClustering</label><div class=\"sk-toggleable__content\"><pre>AgglomerativeClustering(metric=&#x27;euclidean&#x27;)</pre></div></div></div></div></div>"
      ],
      "text/plain": [
       "AgglomerativeClustering(metric='euclidean')"
      ]
     },
     "execution_count": 23,
     "metadata": {},
     "output_type": "execute_result"
    }
   ],
   "source": [
    "from sklearn.cluster import AgglomerativeClustering\n",
    "cluster_test = AgglomerativeClustering(n_clusters=2, metric='euclidean',linkage='ward')\n",
    "cluster_test.fit(pca_scaled_test)"
   ]
  },
  {
   "cell_type": "code",
   "execution_count": 24,
   "id": "d7b5b3b7",
   "metadata": {
    "execution": {
     "iopub.execute_input": "2024-06-05T08:50:00.323814Z",
     "iopub.status.busy": "2024-06-05T08:50:00.323398Z",
     "iopub.status.idle": "2024-06-05T08:50:00.331007Z",
     "shell.execute_reply": "2024-06-05T08:50:00.329782Z"
    },
    "papermill": {
     "duration": 0.023348,
     "end_time": "2024-06-05T08:50:00.333248",
     "exception": false,
     "start_time": "2024-06-05T08:50:00.309900",
     "status": "completed"
    },
    "tags": []
   },
   "outputs": [
    {
     "data": {
      "text/plain": [
       "array([0, 0, 0, 1, 0, 0, 1, 1, 1, 0, 0, 1, 1, 1, 0, 1, 0, 0, 1, 0, 0, 1,\n",
       "       0, 0, 0, 0, 0, 0, 1, 0, 0, 1, 1, 0, 0, 1, 0, 1, 1, 0, 0, 0, 0, 0,\n",
       "       0, 0, 1, 1, 0, 0, 1, 1, 1, 0, 0, 1, 0, 0, 1, 0, 0, 0, 0, 0, 1, 0,\n",
       "       0, 0, 0, 0, 0, 1, 0, 0, 1, 0, 0, 0, 1, 0, 0, 0, 1, 0, 1, 0, 0, 0,\n",
       "       0, 0, 0, 0, 0, 0, 1, 0, 0, 1, 0, 0])"
      ]
     },
     "execution_count": 24,
     "metadata": {},
     "output_type": "execute_result"
    }
   ],
   "source": [
    "cluster.labels_"
   ]
  },
  {
   "cell_type": "code",
   "execution_count": 25,
   "id": "c03d7a1c",
   "metadata": {
    "execution": {
     "iopub.execute_input": "2024-06-05T08:50:00.361183Z",
     "iopub.status.busy": "2024-06-05T08:50:00.360767Z",
     "iopub.status.idle": "2024-06-05T08:50:00.369179Z",
     "shell.execute_reply": "2024-06-05T08:50:00.367821Z"
    },
    "papermill": {
     "duration": 0.025456,
     "end_time": "2024-06-05T08:50:00.371892",
     "exception": false,
     "start_time": "2024-06-05T08:50:00.346436",
     "status": "completed"
    },
    "tags": []
   },
   "outputs": [
    {
     "data": {
      "text/plain": [
       "array([0, 1, 0, 0, 0, 1, 0, 0, 0, 0, 0, 1, 1, 1, 1, 0, 0, 0, 0, 0, 1, 0,\n",
       "       1, 0, 0, 0, 0, 0, 1, 1, 1, 1, 0, 1, 1, 0, 0, 1, 1, 1, 0, 0, 0, 1,\n",
       "       1, 0, 0, 0, 0, 0])"
      ]
     },
     "execution_count": 25,
     "metadata": {},
     "output_type": "execute_result"
    }
   ],
   "source": [
    "cluster_test.labels_"
   ]
  },
  {
   "cell_type": "code",
   "execution_count": 26,
   "id": "fbe5f849",
   "metadata": {
    "execution": {
     "iopub.execute_input": "2024-06-05T08:50:00.399892Z",
     "iopub.status.busy": "2024-06-05T08:50:00.399454Z",
     "iopub.status.idle": "2024-06-05T08:50:00.712316Z",
     "shell.execute_reply": "2024-06-05T08:50:00.710708Z"
    },
    "papermill": {
     "duration": 0.330089,
     "end_time": "2024-06-05T08:50:00.714872",
     "exception": false,
     "start_time": "2024-06-05T08:50:00.384783",
     "status": "completed"
    },
    "tags": []
   },
   "outputs": [
    {
     "data": {
      "text/plain": [
       "<matplotlib.collections.PathCollection at 0x7e01c5367670>"
      ]
     },
     "execution_count": 26,
     "metadata": {},
     "output_type": "execute_result"
    },
    {
     "data": {
      "image/png": "[encoded data removed]",
      "text/plain": [
       "<Figure size 640x480 with 1 Axes>"
      ]
     },
     "metadata": {},
     "output_type": "display_data"
    }
   ],
   "source": [
    "plt.scatter(pca_scaled[:,0],pca_scaled[:,1], c=cluster.labels_)"
   ]
  },
  {
   "cell_type": "code",
   "execution_count": 27,
   "id": "db3508f0",
   "metadata": {
    "execution": {
     "iopub.execute_input": "2024-06-05T08:50:00.742852Z",
     "iopub.status.busy": "2024-06-05T08:50:00.742396Z",
     "iopub.status.idle": "2024-06-05T08:50:01.004038Z",
     "shell.execute_reply": "2024-06-05T08:50:01.002866Z"
    },
    "papermill": {
     "duration": 0.278508,
     "end_time": "2024-06-05T08:50:01.006529",
     "exception": false,
     "start_time": "2024-06-05T08:50:00.728021",
     "status": "completed"
    },
    "tags": []
   },
   "outputs": [
    {
     "data": {
      "text/plain": [
       "<matplotlib.collections.PathCollection at 0x7e01c54007c0>"
      ]
     },
     "execution_count": 27,
     "metadata": {},
     "output_type": "execute_result"
    },
    {
     "data": {
      "image/png": "[encoded data removed]",
      "text/plain": [
       "<Figure size 640x480 with 1 Axes>"
      ]
     },
     "metadata": {},
     "output_type": "display_data"
    }
   ],
   "source": [
    "plt.scatter(pca_scaled_test[:,0],pca_scaled_test[:,1], c=cluster_test.labels_)"
   ]
  },
  {
   "cell_type": "code",
   "execution_count": 28,
   "id": "10d65b96",
   "metadata": {
    "execution": {
     "iopub.execute_input": "2024-06-05T08:50:01.036816Z",
     "iopub.status.busy": "2024-06-05T08:50:01.036408Z",
     "iopub.status.idle": "2024-06-05T08:50:01.076854Z",
     "shell.execute_reply": "2024-06-05T08:50:01.075397Z"
    },
    "papermill": {
     "duration": 0.058889,
     "end_time": "2024-06-05T08:50:01.079907",
     "exception": false,
     "start_time": "2024-06-05T08:50:01.021018",
     "status": "completed"
    },
    "tags": []
   },
   "outputs": [],
   "source": [
    "# Performance metrics\n",
    "from sklearn.metrics import silhouette_score\n",
    "\n",
    "silhouette_coeff = []\n",
    "\n",
    "for k in range(2,11):\n",
    "    agglo=AgglomerativeClustering(n_clusters=k, metric='euclidean',linkage='ward')\n",
    "    agglo.fit(X_train)\n",
    "    score = silhouette_score(X_train_scaled,agglo.labels_)\n",
    "    silhouette_coeff.append(score)"
   ]
  },
  {
   "cell_type": "code",
   "execution_count": 29,
   "id": "6e7a4ca7",
   "metadata": {
    "execution": {
     "iopub.execute_input": "2024-06-05T08:50:01.111152Z",
     "iopub.status.busy": "2024-06-05T08:50:01.110763Z",
     "iopub.status.idle": "2024-06-05T08:50:01.151971Z",
     "shell.execute_reply": "2024-06-05T08:50:01.150585Z"
    },
    "papermill": {
     "duration": 0.061164,
     "end_time": "2024-06-05T08:50:01.155841",
     "exception": false,
     "start_time": "2024-06-05T08:50:01.094677",
     "status": "completed"
    },
    "tags": []
   },
   "outputs": [],
   "source": [
    "# Performance metrics\n",
    "from sklearn.metrics import silhouette_score\n",
    "\n",
    "silhouette_coeff = []\n",
    "\n",
    "for k in range(2,11):\n",
    "    agglo=AgglomerativeClustering(n_clusters=k, metric='euclidean',linkage='ward')\n",
    "    agglo.fit(X_test)\n",
    "    score = silhouette_score(X_test_scaled,agglo.labels_)\n",
    "    silhouette_coeff.append(score)"
   ]
  },
  {
   "cell_type": "code",
   "execution_count": 30,
   "id": "fcf8ada1",
   "metadata": {
    "execution": {
     "iopub.execute_input": "2024-06-05T08:50:01.193022Z",
     "iopub.status.busy": "2024-06-05T08:50:01.192477Z",
     "iopub.status.idle": "2024-06-05T08:50:01.200743Z",
     "shell.execute_reply": "2024-06-05T08:50:01.199491Z"
    },
    "papermill": {
     "duration": 0.028309,
     "end_time": "2024-06-05T08:50:01.203397",
     "exception": false,
     "start_time": "2024-06-05T08:50:01.175088",
     "status": "completed"
    },
    "tags": []
   },
   "outputs": [
    {
     "data": {
      "text/plain": [
       "[0.37100038016542575,\n",
       " 0.46401115718075603,\n",
       " 0.39344500734361704,\n",
       " 0.19378012163731045,\n",
       " 0.07222780764158232,\n",
       " 0.027158375738367244,\n",
       " -0.03157861441058771,\n",
       " -0.045671380995367425,\n",
       " -0.027936364127925762]"
      ]
     },
     "execution_count": 30,
     "metadata": {},
     "output_type": "execute_result"
    }
   ],
   "source": [
    "silhouette_coeff"
   ]
  },
  {
   "cell_type": "code",
   "execution_count": 31,
   "id": "eb1b1772",
   "metadata": {
    "execution": {
     "iopub.execute_input": "2024-06-05T08:50:01.240097Z",
     "iopub.status.busy": "2024-06-05T08:50:01.239687Z",
     "iopub.status.idle": "2024-06-05T08:50:01.477428Z",
     "shell.execute_reply": "2024-06-05T08:50:01.476063Z"
    },
    "papermill": {
     "duration": 0.259656,
     "end_time": "2024-06-05T08:50:01.479909",
     "exception": false,
     "start_time": "2024-06-05T08:50:01.220253",
     "status": "completed"
    },
    "tags": []
   },
   "outputs": [
    {
     "data": {
      "image/png": "[encoded data removed]",
      "text/plain": [
       "<Figure size 640x480 with 1 Axes>"
      ]
     },
     "metadata": {},
     "output_type": "display_data"
    }
   ],
   "source": [
    "plt.plot(range(2,11),silhouette_coeff)\n",
    "plt.xticks(range(2,11))\n",
    "plt.xlabel('Number of clusters')\n",
    "plt.ylabel('silhouette_coeff')\n",
    "plt.show()"
   ]
  },
  {
   "cell_type": "markdown",
   "id": "743d6be1",
   "metadata": {
    "papermill": {
     "duration": 0.079728,
     "end_time": "2024-06-05T08:50:01.573798",
     "exception": false,
     "start_time": "2024-06-05T08:50:01.494070",
     "status": "completed"
    },
    "tags": []
   },
   "source": [
    "# k=2 has highest s_score which is best k_val"
   ]
  },
  {
   "cell_type": "code",
   "execution_count": 32,
   "id": "c391f885",
   "metadata": {
    "execution": {
     "iopub.execute_input": "2024-06-05T08:50:01.604449Z",
     "iopub.status.busy": "2024-06-05T08:50:01.604028Z",
     "iopub.status.idle": "2024-06-05T08:50:01.830146Z",
     "shell.execute_reply": "2024-06-05T08:50:01.828808Z"
    },
    "papermill": {
     "duration": 0.244852,
     "end_time": "2024-06-05T08:50:01.832890",
     "exception": false,
     "start_time": "2024-06-05T08:50:01.588038",
     "status": "completed"
    },
    "tags": []
   },
   "outputs": [
    {
     "data": {
      "image/png": "[encoded data removed]",
      "text/plain": [
       "<Figure size 640x480 with 1 Axes>"
      ]
     },
     "metadata": {},
     "output_type": "display_data"
    }
   ],
   "source": [
    "plt.plot(range(2,11),silhouette_coeff)\n",
    "plt.xticks(range(2,11))\n",
    "plt.xlabel('Number of clusters')\n",
    "plt.ylabel('silhouette_coeff')\n",
    "plt.show()"
   ]
  },
  {
   "cell_type": "markdown",
   "id": "cfc08aa3",
   "metadata": {
    "papermill": {
     "duration": 0.014535,
     "end_time": "2024-06-05T08:50:01.862662",
     "exception": false,
     "start_time": "2024-06-05T08:50:01.848127",
     "status": "completed"
    },
    "tags": []
   },
   "source": [
    "# k=3 has highest s_score which is best k_val"
   ]
  }
 ],
 "metadata": {
  "kaggle": {
   "accelerator": "none",
   "dataSources": [
    {
     "datasetId": 5153080,
     "sourceId": 8610929,
     "sourceType": "datasetVersion"
    }
   ],
   "dockerImageVersionId": 30732,
   "isGpuEnabled": false,
   "isInternetEnabled": false,
   "language": "python",
   "sourceType": "notebook"
  },
  "kernelspec": {
   "display_name": "Python 3",
   "language": "python",
   "name": "python3"
  },
  "language_info": {
   "codemirror_mode": {
    "name": "ipython",
    "version": 3
   },
   "file_extension": ".py",
   "mimetype": "text/x-python",
   "name": "python",
   "nbconvert_exporter": "python",
   "pygments_lexer": "ipython3",
   "version": "3.10.13"
  },
  "papermill": {
   "default_parameters": {},
   "duration": 11.389164,
   "end_time": "2024-06-05T08:50:02.499732",
   "environment_variables": {},
   "exception": null,
   "input_path": "__notebook__.ipynb",
   "output_path": "__notebook__.ipynb",
   "parameters": {},
   "start_time": "2024-06-05T08:49:51.110568",
   "version": "2.5.0"
  }
 },
 "nbformat": 4,
 "nbformat_minor": 5
}
